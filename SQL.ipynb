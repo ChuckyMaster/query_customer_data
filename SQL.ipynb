{
 "cells": [
  {
   "cell_type": "code",
   "execution_count": 3,
   "id": "fa5c6f62",
   "metadata": {},
   "outputs": [],
   "source": [
    "import sqlite3\n",
    "import pandas as pd;\n",
    "import os\n",
    "#permet de récuperer une liste de fichiers \n",
    "import glob "
   ]
  },
  {
   "cell_type": "code",
   "execution_count": 4,
   "id": "d0d9d5b1",
   "metadata": {},
   "outputs": [
    {
     "name": "stdout",
     "output_type": "stream",
     "text": [
      "[]\n"
     ]
    }
   ],
   "source": [
    "#parcourir le dossier avec les csv / Remplace 'chemin_vers_vos_csv/*.csv'\n",
    "list_csvs = glob.glob('./csv/*.csv')\n",
    "print(list_csvs) \n"
   ]
  },
  {
   "cell_type": "code",
   "execution_count": 5,
   "id": "7e0b5ead",
   "metadata": {},
   "outputs": [],
   "source": [
    "#Bdd temporaire stockée en mémoire , connexion \n",
    "conn = sqlite3.connect(':memory:')\n",
    "cursor = conn.cursor()"
   ]
  },
  {
   "cell_type": "code",
   "execution_count": 6,
   "id": "a5731a25",
   "metadata": {},
   "outputs": [],
   "source": [
    "#Lire chaque fichier CSV et l'insérer en tant que table dans SQLite\n",
    "\n",
    "for one_csv in list_csvs:\n",
    "     # Lire le CSV dans un DataFrame pandas\n",
    "    df = pd.read_csv(one_csv)\n",
    "   \n",
    "   # Utiliser os.path.basename pour obtenir le nom du fichier avec extension\n",
    "    file_name = os.path.basename(one_csv) # Récupère le nom de fichier avec extension\n",
    "\n",
    "    print(df.head())\n",
    "    print(file_name)\n",
    "\n",
    "    # Divise le nom du fichier en une liste de sous - chaines qui utilise le caractère '.'\n",
    "    # ensuite [0] séléctionne le premier élément de la liste \n",
    "    table_name = file_name.split('.')[0]\n",
    "\n",
    "\n",
    "    #inserer le DF dans la table sqlite temporare / la base de donnée en mémoire créer plus haut \n",
    "\n",
    "    df.to_sql(table_name, conn, index=False, if_exists='replace')\n",
    "    \n",
    "    print(f\"Table '{table_name}' créée avec succès dans SQLite.\\n\")"
   ]
  },
  {
   "cell_type": "code",
   "execution_count": 7,
   "id": "863acea7",
   "metadata": {},
   "outputs": [
    {
     "name": "stdout",
     "output_type": "stream",
     "text": [
      "Tables créées dans la base de données SQLite :\n",
      "[]\n",
      "Tables disponibles dans la base de données :\n"
     ]
    }
   ],
   "source": [
    "# 4. Vérifier les tables créées dans la base de données SQLite\n",
    "cursor.execute(\"SELECT name FROM sqlite_master WHERE type='table';\")\n",
    "tables = cursor.fetchall()\n",
    "print(\"Tables créées dans la base de données SQLite :\")\n",
    "print(tables)\n",
    "print(\"Tables disponibles dans la base de données :\")\n",
    "for table in tables:\n",
    "    print(table[0])"
   ]
  },
  {
   "cell_type": "code",
   "execution_count": 8,
   "id": "68ab3b14",
   "metadata": {},
   "outputs": [
    {
     "name": "stdout",
     "output_type": "stream",
     "text": [
      "Aucune table n'a été créée dans la base de données SQLite.\n"
     ]
    }
   ],
   "source": [
    "if tables:  # Vérifie s'il y a des tables créées\n",
    "    table_name = tables[0][0]  # Prendre le nom de la première table\n",
    "    request = f\"SELECT * FROM {table_name} LIMIT 5;\"  # Requête SQL\n",
    "    resultats = pd.read_sql_query(request, conn)\n",
    "\n",
    "    # 6. Afficher les résultats de la requête\n",
    "    print(f\"\\nRésultats de la requête sur la table '{table_name}':\")\n",
    "    print(resultats)\n",
    "else:\n",
    "    print(\"Aucune table n'a été créée dans la base de données SQLite.\")"
   ]
  },
  {
   "cell_type": "code",
   "execution_count": 9,
   "id": "2a4c446f",
   "metadata": {},
   "outputs": [
    {
     "data": {
      "text/html": [
       "<div>\n",
       "<style scoped>\n",
       "    .dataframe tbody tr th:only-of-type {\n",
       "        vertical-align: middle;\n",
       "    }\n",
       "\n",
       "    .dataframe tbody tr th {\n",
       "        vertical-align: top;\n",
       "    }\n",
       "\n",
       "    .dataframe thead th {\n",
       "        text-align: right;\n",
       "    }\n",
       "</style>\n",
       "<table border=\"1\" class=\"dataframe\">\n",
       "  <thead>\n",
       "    <tr style=\"text-align: right;\">\n",
       "      <th></th>\n",
       "      <th>product_id</th>\n",
       "      <th>product_name</th>\n",
       "      <th>category</th>\n",
       "      <th>price</th>\n",
       "    </tr>\n",
       "  </thead>\n",
       "  <tbody>\n",
       "    <tr>\n",
       "      <th>0</th>\n",
       "      <td>1</td>\n",
       "      <td>Product 1</td>\n",
       "      <td>Books</td>\n",
       "      <td>14.02</td>\n",
       "    </tr>\n",
       "    <tr>\n",
       "      <th>1</th>\n",
       "      <td>2</td>\n",
       "      <td>Product 2</td>\n",
       "      <td>Books</td>\n",
       "      <td>291.83</td>\n",
       "    </tr>\n",
       "    <tr>\n",
       "      <th>2</th>\n",
       "      <td>3</td>\n",
       "      <td>Product 3</td>\n",
       "      <td>Books</td>\n",
       "      <td>295.06</td>\n",
       "    </tr>\n",
       "    <tr>\n",
       "      <th>3</th>\n",
       "      <td>4</td>\n",
       "      <td>Product 4</td>\n",
       "      <td>Electronics</td>\n",
       "      <td>228.15</td>\n",
       "    </tr>\n",
       "    <tr>\n",
       "      <th>4</th>\n",
       "      <td>5</td>\n",
       "      <td>Product 5</td>\n",
       "      <td>Furniture</td>\n",
       "      <td>419.20</td>\n",
       "    </tr>\n",
       "  </tbody>\n",
       "</table>\n",
       "</div>"
      ],
      "text/plain": [
       "   product_id product_name     category   price\n",
       "0           1    Product 1        Books   14.02\n",
       "1           2    Product 2        Books  291.83\n",
       "2           3    Product 3        Books  295.06\n",
       "3           4    Product 4  Electronics  228.15\n",
       "4           5    Product 5    Furniture  419.20"
      ]
     },
     "execution_count": 9,
     "metadata": {},
     "output_type": "execute_result"
    }
   ],
   "source": [
    "customers = pd.read_csv('./customers.csv')\n",
    "customers.head()\n",
    "stores = pd.read_csv('./stores.csv')\n",
    "stores.head()\n",
    "transactions = pd.read_csv('./transactions.csv')\n",
    "transactions.head()\n",
    "products = pd.read_csv('./products.csv')\n",
    "products.head()"
   ]
  },
  {
   "cell_type": "code",
   "execution_count": null,
   "metadata": {},
   "outputs": [],
   "source": []
  },
  {
   "cell_type": "code",
   "execution_count": 10,
   "id": "e05304e3",
   "metadata": {},
   "outputs": [
    {
     "data": {
      "text/html": [
       "<div>\n",
       "<style scoped>\n",
       "    .dataframe tbody tr th:only-of-type {\n",
       "        vertical-align: middle;\n",
       "    }\n",
       "\n",
       "    .dataframe tbody tr th {\n",
       "        vertical-align: top;\n",
       "    }\n",
       "\n",
       "    .dataframe thead th {\n",
       "        text-align: right;\n",
       "    }\n",
       "</style>\n",
       "<table border=\"1\" class=\"dataframe\">\n",
       "  <thead>\n",
       "    <tr style=\"text-align: right;\">\n",
       "      <th></th>\n",
       "      <th>transaction_id</th>\n",
       "      <th>customer_id</th>\n",
       "      <th>product_id</th>\n",
       "      <th>store_id</th>\n",
       "      <th>date</th>\n",
       "      <th>amount</th>\n",
       "    </tr>\n",
       "  </thead>\n",
       "  <tbody>\n",
       "    <tr>\n",
       "      <th>0</th>\n",
       "      <td>1</td>\n",
       "      <td>35</td>\n",
       "      <td>8</td>\n",
       "      <td>12</td>\n",
       "      <td>2023-01-01</td>\n",
       "      <td>379.09</td>\n",
       "    </tr>\n",
       "    <tr>\n",
       "      <th>1</th>\n",
       "      <td>2</td>\n",
       "      <td>236</td>\n",
       "      <td>34</td>\n",
       "      <td>16</td>\n",
       "      <td>2023-01-02</td>\n",
       "      <td>18.48</td>\n",
       "    </tr>\n",
       "    <tr>\n",
       "      <th>2</th>\n",
       "      <td>3</td>\n",
       "      <td>334</td>\n",
       "      <td>50</td>\n",
       "      <td>20</td>\n",
       "      <td>2023-01-03</td>\n",
       "      <td>783.51</td>\n",
       "    </tr>\n",
       "    <tr>\n",
       "      <th>3</th>\n",
       "      <td>4</td>\n",
       "      <td>325</td>\n",
       "      <td>46</td>\n",
       "      <td>20</td>\n",
       "      <td>2023-01-04</td>\n",
       "      <td>333.82</td>\n",
       "    </tr>\n",
       "    <tr>\n",
       "      <th>4</th>\n",
       "      <td>5</td>\n",
       "      <td>332</td>\n",
       "      <td>89</td>\n",
       "      <td>6</td>\n",
       "      <td>2023-01-05</td>\n",
       "      <td>329.74</td>\n",
       "    </tr>\n",
       "    <tr>\n",
       "      <th>...</th>\n",
       "      <td>...</td>\n",
       "      <td>...</td>\n",
       "      <td>...</td>\n",
       "      <td>...</td>\n",
       "      <td>...</td>\n",
       "      <td>...</td>\n",
       "    </tr>\n",
       "    <tr>\n",
       "      <th>995</th>\n",
       "      <td>996</td>\n",
       "      <td>271</td>\n",
       "      <td>62</td>\n",
       "      <td>8</td>\n",
       "      <td>2025-09-22</td>\n",
       "      <td>268.09</td>\n",
       "    </tr>\n",
       "    <tr>\n",
       "      <th>996</th>\n",
       "      <td>997</td>\n",
       "      <td>380</td>\n",
       "      <td>9</td>\n",
       "      <td>4</td>\n",
       "      <td>2025-09-23</td>\n",
       "      <td>829.86</td>\n",
       "    </tr>\n",
       "    <tr>\n",
       "      <th>997</th>\n",
       "      <td>998</td>\n",
       "      <td>46</td>\n",
       "      <td>22</td>\n",
       "      <td>14</td>\n",
       "      <td>2025-09-24</td>\n",
       "      <td>603.12</td>\n",
       "    </tr>\n",
       "    <tr>\n",
       "      <th>998</th>\n",
       "      <td>999</td>\n",
       "      <td>2</td>\n",
       "      <td>85</td>\n",
       "      <td>8</td>\n",
       "      <td>2025-09-25</td>\n",
       "      <td>882.43</td>\n",
       "    </tr>\n",
       "    <tr>\n",
       "      <th>999</th>\n",
       "      <td>1000</td>\n",
       "      <td>253</td>\n",
       "      <td>4</td>\n",
       "      <td>8</td>\n",
       "      <td>2025-09-26</td>\n",
       "      <td>365.28</td>\n",
       "    </tr>\n",
       "  </tbody>\n",
       "</table>\n",
       "<p>1000 rows × 6 columns</p>\n",
       "</div>"
      ],
      "text/plain": [
       "     transaction_id  customer_id  product_id  store_id        date  amount\n",
       "0                 1           35           8        12  2023-01-01  379.09\n",
       "1                 2          236          34        16  2023-01-02   18.48\n",
       "2                 3          334          50        20  2023-01-03  783.51\n",
       "3                 4          325          46        20  2023-01-04  333.82\n",
       "4                 5          332          89         6  2023-01-05  329.74\n",
       "..              ...          ...         ...       ...         ...     ...\n",
       "995             996          271          62         8  2025-09-22  268.09\n",
       "996             997          380           9         4  2025-09-23  829.86\n",
       "997             998           46          22        14  2025-09-24  603.12\n",
       "998             999            2          85         8  2025-09-25  882.43\n",
       "999            1000          253           4         8  2025-09-26  365.28\n",
       "\n",
       "[1000 rows x 6 columns]"
      ]
     },
     "execution_count": 10,
     "metadata": {},
     "output_type": "execute_result"
    }
   ],
   "source": [
    "conn = sqlite3.connect(':memory:')\n",
    "products.to_sql('products', conn, index=False, if_exists='replace')\n",
    "customers.to_sql('customers', conn, index=False, if_exists='replace')\n",
    "stores.to_sql('stores', conn, index=False, if_exists='replace')\n",
    "transactions.to_sql('transactions', conn, index=False, if_exists='replace')\n",
    "query = \"\"\"\n",
    "        SELECT *\n",
    "        FROM transactions;\n",
    "    \"\"\"\n",
    "\n",
    "result = pd.read_sql_query(query, conn)\n",
    "result"
   ]
  },
  {
   "cell_type": "markdown",
   "id": "71661566",
   "metadata": {},
   "source": [
    "### Exploration des Tables et Pré-Analyse"
   ]
  },
  {
   "cell_type": "markdown",
   "id": "193417c2-bea2-406d-a6d0-5bc95b34fb32",
   "metadata": {},
   "source": [
    "## 1 - Lister les noms des colonnes et le type de données pour chaque table.\n"
   ]
  },
  {
   "cell_type": "code",
   "execution_count": 11,
   "id": "7b98a2b8-c18d-414f-b34a-98bc7365be95",
   "metadata": {},
   "outputs": [
    {
     "data": {
      "text/html": [
       "<div>\n",
       "<style scoped>\n",
       "    .dataframe tbody tr th:only-of-type {\n",
       "        vertical-align: middle;\n",
       "    }\n",
       "\n",
       "    .dataframe tbody tr th {\n",
       "        vertical-align: top;\n",
       "    }\n",
       "\n",
       "    .dataframe thead th {\n",
       "        text-align: right;\n",
       "    }\n",
       "</style>\n",
       "<table border=\"1\" class=\"dataframe\">\n",
       "  <thead>\n",
       "    <tr style=\"text-align: right;\">\n",
       "      <th></th>\n",
       "      <th>cid</th>\n",
       "      <th>name</th>\n",
       "      <th>type</th>\n",
       "      <th>notnull</th>\n",
       "      <th>dflt_value</th>\n",
       "      <th>pk</th>\n",
       "    </tr>\n",
       "  </thead>\n",
       "  <tbody>\n",
       "    <tr>\n",
       "      <th>0</th>\n",
       "      <td>0</td>\n",
       "      <td>transaction_id</td>\n",
       "      <td>INTEGER</td>\n",
       "      <td>0</td>\n",
       "      <td>None</td>\n",
       "      <td>0</td>\n",
       "    </tr>\n",
       "    <tr>\n",
       "      <th>1</th>\n",
       "      <td>1</td>\n",
       "      <td>customer_id</td>\n",
       "      <td>INTEGER</td>\n",
       "      <td>0</td>\n",
       "      <td>None</td>\n",
       "      <td>0</td>\n",
       "    </tr>\n",
       "    <tr>\n",
       "      <th>2</th>\n",
       "      <td>2</td>\n",
       "      <td>product_id</td>\n",
       "      <td>INTEGER</td>\n",
       "      <td>0</td>\n",
       "      <td>None</td>\n",
       "      <td>0</td>\n",
       "    </tr>\n",
       "    <tr>\n",
       "      <th>3</th>\n",
       "      <td>3</td>\n",
       "      <td>store_id</td>\n",
       "      <td>INTEGER</td>\n",
       "      <td>0</td>\n",
       "      <td>None</td>\n",
       "      <td>0</td>\n",
       "    </tr>\n",
       "    <tr>\n",
       "      <th>4</th>\n",
       "      <td>4</td>\n",
       "      <td>date</td>\n",
       "      <td>TEXT</td>\n",
       "      <td>0</td>\n",
       "      <td>None</td>\n",
       "      <td>0</td>\n",
       "    </tr>\n",
       "    <tr>\n",
       "      <th>5</th>\n",
       "      <td>5</td>\n",
       "      <td>amount</td>\n",
       "      <td>REAL</td>\n",
       "      <td>0</td>\n",
       "      <td>None</td>\n",
       "      <td>0</td>\n",
       "    </tr>\n",
       "  </tbody>\n",
       "</table>\n",
       "</div>"
      ],
      "text/plain": [
       "   cid            name     type  notnull dflt_value  pk\n",
       "0    0  transaction_id  INTEGER        0       None   0\n",
       "1    1     customer_id  INTEGER        0       None   0\n",
       "2    2      product_id  INTEGER        0       None   0\n",
       "3    3        store_id  INTEGER        0       None   0\n",
       "4    4            date     TEXT        0       None   0\n",
       "5    5          amount     REAL        0       None   0"
      ]
     },
     "execution_count": 11,
     "metadata": {},
     "output_type": "execute_result"
    }
   ],
   "source": [
    "query = \"\"\"\n",
    "        PRAGMA table_info(transactions)\n",
    "    \"\"\"\n",
    "\n",
    "\n",
    "\n",
    "result = pd.read_sql_query(query, conn)\n",
    "result\n"
   ]
  },
  {
   "cell_type": "code",
   "execution_count": 12,
   "id": "242fc9aa",
   "metadata": {},
   "outputs": [
    {
     "data": {
      "text/html": [
       "<div>\n",
       "<style scoped>\n",
       "    .dataframe tbody tr th:only-of-type {\n",
       "        vertical-align: middle;\n",
       "    }\n",
       "\n",
       "    .dataframe tbody tr th {\n",
       "        vertical-align: top;\n",
       "    }\n",
       "\n",
       "    .dataframe thead th {\n",
       "        text-align: right;\n",
       "    }\n",
       "</style>\n",
       "<table border=\"1\" class=\"dataframe\">\n",
       "  <thead>\n",
       "    <tr style=\"text-align: right;\">\n",
       "      <th></th>\n",
       "      <th>cid</th>\n",
       "      <th>name</th>\n",
       "      <th>type</th>\n",
       "      <th>notnull</th>\n",
       "      <th>dflt_value</th>\n",
       "      <th>pk</th>\n",
       "    </tr>\n",
       "  </thead>\n",
       "  <tbody>\n",
       "    <tr>\n",
       "      <th>0</th>\n",
       "      <td>0</td>\n",
       "      <td>store_id</td>\n",
       "      <td>INTEGER</td>\n",
       "      <td>0</td>\n",
       "      <td>None</td>\n",
       "      <td>0</td>\n",
       "    </tr>\n",
       "    <tr>\n",
       "      <th>1</th>\n",
       "      <td>1</td>\n",
       "      <td>store_name</td>\n",
       "      <td>TEXT</td>\n",
       "      <td>0</td>\n",
       "      <td>None</td>\n",
       "      <td>0</td>\n",
       "    </tr>\n",
       "    <tr>\n",
       "      <th>2</th>\n",
       "      <td>2</td>\n",
       "      <td>location</td>\n",
       "      <td>TEXT</td>\n",
       "      <td>0</td>\n",
       "      <td>None</td>\n",
       "      <td>0</td>\n",
       "    </tr>\n",
       "  </tbody>\n",
       "</table>\n",
       "</div>"
      ],
      "text/plain": [
       "   cid        name     type  notnull dflt_value  pk\n",
       "0    0    store_id  INTEGER        0       None   0\n",
       "1    1  store_name     TEXT        0       None   0\n",
       "2    2    location     TEXT        0       None   0"
      ]
     },
     "execution_count": 12,
     "metadata": {},
     "output_type": "execute_result"
    }
   ],
   "source": [
    "query = \"\"\"\n",
    "        PRAGMA table_info(stores)\n",
    "    \"\"\"\n",
    "\n",
    "\n",
    "\n",
    "result = pd.read_sql_query(query, conn)\n",
    "result"
   ]
  },
  {
   "cell_type": "code",
   "execution_count": 13,
   "id": "78d8f545",
   "metadata": {},
   "outputs": [
    {
     "data": {
      "text/html": [
       "<div>\n",
       "<style scoped>\n",
       "    .dataframe tbody tr th:only-of-type {\n",
       "        vertical-align: middle;\n",
       "    }\n",
       "\n",
       "    .dataframe tbody tr th {\n",
       "        vertical-align: top;\n",
       "    }\n",
       "\n",
       "    .dataframe thead th {\n",
       "        text-align: right;\n",
       "    }\n",
       "</style>\n",
       "<table border=\"1\" class=\"dataframe\">\n",
       "  <thead>\n",
       "    <tr style=\"text-align: right;\">\n",
       "      <th></th>\n",
       "      <th>cid</th>\n",
       "      <th>name</th>\n",
       "      <th>type</th>\n",
       "      <th>notnull</th>\n",
       "      <th>dflt_value</th>\n",
       "      <th>pk</th>\n",
       "    </tr>\n",
       "  </thead>\n",
       "  <tbody>\n",
       "    <tr>\n",
       "      <th>0</th>\n",
       "      <td>0</td>\n",
       "      <td>product_id</td>\n",
       "      <td>INTEGER</td>\n",
       "      <td>0</td>\n",
       "      <td>None</td>\n",
       "      <td>0</td>\n",
       "    </tr>\n",
       "    <tr>\n",
       "      <th>1</th>\n",
       "      <td>1</td>\n",
       "      <td>product_name</td>\n",
       "      <td>TEXT</td>\n",
       "      <td>0</td>\n",
       "      <td>None</td>\n",
       "      <td>0</td>\n",
       "    </tr>\n",
       "    <tr>\n",
       "      <th>2</th>\n",
       "      <td>2</td>\n",
       "      <td>category</td>\n",
       "      <td>TEXT</td>\n",
       "      <td>0</td>\n",
       "      <td>None</td>\n",
       "      <td>0</td>\n",
       "    </tr>\n",
       "    <tr>\n",
       "      <th>3</th>\n",
       "      <td>3</td>\n",
       "      <td>price</td>\n",
       "      <td>REAL</td>\n",
       "      <td>0</td>\n",
       "      <td>None</td>\n",
       "      <td>0</td>\n",
       "    </tr>\n",
       "  </tbody>\n",
       "</table>\n",
       "</div>"
      ],
      "text/plain": [
       "   cid          name     type  notnull dflt_value  pk\n",
       "0    0    product_id  INTEGER        0       None   0\n",
       "1    1  product_name     TEXT        0       None   0\n",
       "2    2      category     TEXT        0       None   0\n",
       "3    3         price     REAL        0       None   0"
      ]
     },
     "execution_count": 13,
     "metadata": {},
     "output_type": "execute_result"
    }
   ],
   "source": [
    "query = \"\"\"\n",
    "        PRAGMA table_info(products)\n",
    "    \"\"\"\n",
    "\n",
    "\n",
    "\n",
    "result = pd.read_sql_query(query, conn)\n",
    "result"
   ]
  },
  {
   "cell_type": "code",
   "execution_count": 14,
   "id": "75b346d7",
   "metadata": {},
   "outputs": [
    {
     "data": {
      "text/html": [
       "<div>\n",
       "<style scoped>\n",
       "    .dataframe tbody tr th:only-of-type {\n",
       "        vertical-align: middle;\n",
       "    }\n",
       "\n",
       "    .dataframe tbody tr th {\n",
       "        vertical-align: top;\n",
       "    }\n",
       "\n",
       "    .dataframe thead th {\n",
       "        text-align: right;\n",
       "    }\n",
       "</style>\n",
       "<table border=\"1\" class=\"dataframe\">\n",
       "  <thead>\n",
       "    <tr style=\"text-align: right;\">\n",
       "      <th></th>\n",
       "      <th>cid</th>\n",
       "      <th>name</th>\n",
       "      <th>type</th>\n",
       "      <th>notnull</th>\n",
       "      <th>dflt_value</th>\n",
       "      <th>pk</th>\n",
       "    </tr>\n",
       "  </thead>\n",
       "  <tbody>\n",
       "    <tr>\n",
       "      <th>0</th>\n",
       "      <td>0</td>\n",
       "      <td>customer_id</td>\n",
       "      <td>INTEGER</td>\n",
       "      <td>0</td>\n",
       "      <td>None</td>\n",
       "      <td>0</td>\n",
       "    </tr>\n",
       "    <tr>\n",
       "      <th>1</th>\n",
       "      <td>1</td>\n",
       "      <td>customer_name</td>\n",
       "      <td>TEXT</td>\n",
       "      <td>0</td>\n",
       "      <td>None</td>\n",
       "      <td>0</td>\n",
       "    </tr>\n",
       "    <tr>\n",
       "      <th>2</th>\n",
       "      <td>2</td>\n",
       "      <td>age</td>\n",
       "      <td>INTEGER</td>\n",
       "      <td>0</td>\n",
       "      <td>None</td>\n",
       "      <td>0</td>\n",
       "    </tr>\n",
       "    <tr>\n",
       "      <th>3</th>\n",
       "      <td>3</td>\n",
       "      <td>gender</td>\n",
       "      <td>TEXT</td>\n",
       "      <td>0</td>\n",
       "      <td>None</td>\n",
       "      <td>0</td>\n",
       "    </tr>\n",
       "  </tbody>\n",
       "</table>\n",
       "</div>"
      ],
      "text/plain": [
       "   cid           name     type  notnull dflt_value  pk\n",
       "0    0    customer_id  INTEGER        0       None   0\n",
       "1    1  customer_name     TEXT        0       None   0\n",
       "2    2            age  INTEGER        0       None   0\n",
       "3    3         gender     TEXT        0       None   0"
      ]
     },
     "execution_count": 14,
     "metadata": {},
     "output_type": "execute_result"
    }
   ],
   "source": [
    "query = \"\"\"\n",
    "        PRAGMA table_info(customers)\n",
    "    \"\"\"\n",
    "\n",
    "\n",
    "\n",
    "result = pd.read_sql_query(query, conn)\n",
    "result"
   ]
  },
  {
   "cell_type": "markdown",
   "id": "f3e76535-5658-42bc-b887-2f81494884a0",
   "metadata": {},
   "source": [
    "## 2 - Vérifier s'il y a des doublons dans la table transactions sur la colonne transaction_id.\n"
   ]
  },
  {
   "cell_type": "code",
   "execution_count": 15,
   "id": "9aeca674-c87d-49f3-b801-b5594df9658d",
   "metadata": {},
   "outputs": [
    {
     "name": "stdout",
     "output_type": "stream",
     "text": [
      "Empty DataFrame\n",
      "Columns: [transaction_id, COUNT(*)]\n",
      "Index: []\n"
     ]
    }
   ],
   "source": [
    "query = \"\"\"\n",
    "        SELECT transaction_id, COUNT(*)\n",
    "FROM transactions\n",
    "GROUP BY transaction_id\n",
    "HAVING COUNT(*) > 1;\n",
    "    \"\"\"\n",
    "\n",
    "\n",
    "\n",
    "result = pd.read_sql_query(query, conn)\n",
    "print(result)"
   ]
  },
  {
   "cell_type": "markdown",
   "id": "ca1c0e48-0039-4a05-a024-624cd6b6e7ac",
   "metadata": {},
   "source": [
    "## 3 - Identifier les clés primaires et les clés étrangères de chaque table.\n",
    "\n",
    "\n"
   ]
  },
  {
   "cell_type": "code",
   "execution_count": 16,
   "id": "485d29aa-2b7b-4ad2-96ed-4b0892085820",
   "metadata": {},
   "outputs": [
    {
     "name": "stdout",
     "output_type": "stream",
     "text": [
      "Empty DataFrame\n",
      "Columns: [cid, name, type, notnull, dflt_value, pk]\n",
      "Index: []\n"
     ]
    }
   ],
   "source": [
    "query = \"\"\"\n",
    "SELECT *\n",
    "FROM pragma_table_info('transactions')\n",
    "WHERE pk > 0;\n",
    "\"\"\"\n",
    "\n",
    "\n",
    "result = pd.read_sql_query(query, conn)\n",
    "print(result)"
   ]
  },
  {
   "cell_type": "code",
   "execution_count": 17,
   "id": "96fecf0d",
   "metadata": {},
   "outputs": [
    {
     "name": "stdout",
     "output_type": "stream",
     "text": [
      "Empty DataFrame\n",
      "Columns: [cid, name, type, notnull, dflt_value, pk]\n",
      "Index: []\n"
     ]
    }
   ],
   "source": [
    "query = \"\"\"\n",
    "SELECT *\n",
    "FROM pragma_table_info('stores')\n",
    "WHERE pk > 0;\n",
    "\"\"\"\n",
    "\n",
    "\n",
    "result = pd.read_sql_query(query, conn)\n",
    "print(result)"
   ]
  },
  {
   "cell_type": "code",
   "execution_count": 18,
   "id": "5f02b540",
   "metadata": {},
   "outputs": [
    {
     "name": "stdout",
     "output_type": "stream",
     "text": [
      "Empty DataFrame\n",
      "Columns: [cid, name, type, notnull, dflt_value, pk]\n",
      "Index: []\n"
     ]
    }
   ],
   "source": [
    "query = \"\"\"\n",
    "SELECT *\n",
    "FROM pragma_table_info('products')\n",
    "WHERE pk > 0;\n",
    "\"\"\"\n",
    "\n",
    "\n",
    "result = pd.read_sql_query(query, conn)\n",
    "print(result)"
   ]
  },
  {
   "cell_type": "code",
   "execution_count": 19,
   "id": "2d59ba8d",
   "metadata": {},
   "outputs": [
    {
     "name": "stdout",
     "output_type": "stream",
     "text": [
      "Empty DataFrame\n",
      "Columns: [cid, name, type, notnull, dflt_value, pk]\n",
      "Index: []\n"
     ]
    }
   ],
   "source": [
    "query = \"\"\"\n",
    "SELECT *\n",
    "FROM pragma_table_info('customers')\n",
    "WHERE pk > 0;\n",
    "\"\"\"\n",
    "\n",
    "\n",
    "result = pd.read_sql_query(query, conn)\n",
    "print(result)"
   ]
  },
  {
   "cell_type": "code",
   "execution_count": 20,
   "id": "a5fe841c",
   "metadata": {},
   "outputs": [
    {
     "name": "stdout",
     "output_type": "stream",
     "text": [
      "   cid            name     type  notnull dflt_value  pk\n",
      "0    0  transaction_id  INTEGER        0       None   0\n",
      "1    1     customer_id  INTEGER        0       None   0\n",
      "2    2      product_id  INTEGER        0       None   0\n",
      "3    3        store_id  INTEGER        0       None   0\n",
      "4    4            date     TEXT        0       None   0\n",
      "5    5          amount     REAL        0       None   0\n"
     ]
    }
   ],
   "source": [
    "query = \"\"\"\n",
    "SELECT *\n",
    "FROM pragma_table_info('transactions')\n",
    "WHERE pk = 0;\n",
    "\"\"\"\n",
    "\n",
    "\n",
    "result = pd.read_sql_query(query, conn)\n",
    "print(result)"
   ]
  },
  {
   "cell_type": "markdown",
   "id": "c5dc5baa-3ad8-443f-aaf3-56ce47245584",
   "metadata": {},
   "source": [
    "## 4 - Vérifier si la colonne date dans la table transactions est stockée dans un format date, sinon, la convertir.\n"
   ]
  },
  {
   "cell_type": "code",
   "execution_count": null,
   "id": "60b33a75-8256-44f0-90c7-406752ff3c53",
   "metadata": {},
   "outputs": [],
   "source": [
    "\n"
   ]
  },
  {
   "cell_type": "markdown",
   "id": "fa37c2d6-722f-4781-ac3b-ead556fd5e4e",
   "metadata": {},
   "source": [
    "## 5 - Vérifier s'il existe des valeurs nulles dans les colonnes customer_id, product_id, store_id des transactions.\n",
    "\n",
    "\n"
   ]
  },
  {
   "cell_type": "code",
   "execution_count": 21,
   "id": "e322daad",
   "metadata": {},
   "outputs": [
    {
     "name": "stdout",
     "output_type": "stream",
     "text": [
      "   customer_id_null_count  product_id_null_count  store_id_null_count\n",
      "0                       0                      0                    0\n"
     ]
    }
   ],
   "source": [
    "query = \"\"\"\n",
    "SELECT\n",
    "    SUM(CASE WHEN customer_id IS NULL THEN 1 ELSE 0 END) AS customer_id_null_count,\n",
    "    SUM(CASE WHEN product_id IS NULL THEN 1 ELSE 0 END) AS product_id_null_count,\n",
    "    SUM(CASE WHEN store_id IS NULL THEN 1 ELSE 0 END) AS store_id_null_count\n",
    "FROM\n",
    "    transactions;\n",
    "\n",
    "\"\"\"\n",
    "\n",
    "\n",
    "result = pd.read_sql_query(query, conn)\n",
    "print(result)"
   ]
  },
  {
   "cell_type": "markdown",
   "id": "ae55bb6b-35dc-46f6-81d9-ef374d81221f",
   "metadata": {},
   "source": [
    "# Requêtes de Base\n",
    "\n"
   ]
  },
  {
   "cell_type": "markdown",
   "id": "0b853567-e55d-401c-a979-c254f498503c",
   "metadata": {},
   "source": [
    "## 6- Lister toutes les transactions effectuées dans le magasin New York.\n",
    "\n"
   ]
  },
  {
   "cell_type": "code",
   "execution_count": 22,
   "id": "be97aa92",
   "metadata": {},
   "outputs": [
    {
     "name": "stdout",
     "output_type": "stream",
     "text": [
      "     transaction_id  customer_id  product_id  store_id        date  amount  \\\n",
      "0                 7          146          78         1  2023-01-07   48.99   \n",
      "1                12          500          81         1  2023-01-12   11.31   \n",
      "2                29           70          52         1  2023-01-29  290.12   \n",
      "3                51          400          62         1  2023-02-20  733.48   \n",
      "4                76          452          29         1  2023-03-17  277.07   \n",
      "..              ...          ...         ...       ...         ...     ...   \n",
      "396             937          104          88        20  2025-07-25  905.52   \n",
      "397             941          370          74        20  2025-07-29  308.36   \n",
      "398             960          497           2        20  2025-08-17  127.38   \n",
      "399             978          292          95        20  2025-09-04  218.93   \n",
      "400             990          399          58        20  2025-09-16  514.18   \n",
      "\n",
      "     store_id store_name  location  \n",
      "0           1    Store 1  New York  \n",
      "1           1    Store 1  New York  \n",
      "2           1    Store 1  New York  \n",
      "3           1    Store 1  New York  \n",
      "4           1    Store 1  New York  \n",
      "..        ...        ...       ...  \n",
      "396        20   Store 20  New York  \n",
      "397        20   Store 20  New York  \n",
      "398        20   Store 20  New York  \n",
      "399        20   Store 20  New York  \n",
      "400        20   Store 20  New York  \n",
      "\n",
      "[401 rows x 9 columns]\n"
     ]
    }
   ],
   "source": [
    "query = \"\"\"\n",
    "SELECT *\n",
    "FROM transactions\n",
    "JOIN stores ON transactions.store_id = stores.store_id\n",
    "WHERE stores.location = 'New York';\n",
    "\"\"\"\n",
    "result = pd.read_sql_query(query, conn)\n",
    "print(result)"
   ]
  },
  {
   "cell_type": "markdown",
   "id": "cc7b8e04-e3c4-4798-ba92-80bd782029d1",
   "metadata": {},
   "source": [
    "## 7- Récupérer les noms des produits achetés par le customer_id 35.\n",
    "\n"
   ]
  },
  {
   "cell_type": "code",
   "execution_count": 23,
   "id": "605a7eb0",
   "metadata": {},
   "outputs": [
    {
     "name": "stdout",
     "output_type": "stream",
     "text": [
      "  product_name\n",
      "0    Product 8\n",
      "1   Product 96\n"
     ]
    }
   ],
   "source": [
    "query = \"\"\"\n",
    "SELECT product_name\n",
    "FROM transactions\n",
    "JOIN products ON transactions.product_id = products.product_id\n",
    "WHERE transactions.customer_id = 35\n",
    ";\n",
    "\"\"\"\n",
    "result = pd.read_sql_query(query, conn)\n",
    "print(result)"
   ]
  },
  {
   "cell_type": "markdown",
   "id": "adecd477-f204-4765-910f-9e75bcb66692",
   "metadata": {},
   "source": [
    "## 8- Lister les différents types de catégories de produits disponibles.\n",
    "\n"
   ]
  },
  {
   "cell_type": "code",
   "execution_count": 24,
   "id": "147511dc",
   "metadata": {},
   "outputs": [
    {
     "name": "stdout",
     "output_type": "stream",
     "text": [
      "      category\n",
      "0        Books\n",
      "1  Electronics\n",
      "2    Furniture\n",
      "3     Clothing\n"
     ]
    }
   ],
   "source": [
    "query = \"\"\"\n",
    "SELECT DISTINCT category\n",
    "FROM products;\n",
    "\"\"\"\n",
    "result = pd.read_sql_query(query, conn)\n",
    "print(result)"
   ]
  },
  {
   "cell_type": "markdown",
   "id": "40b466d9-5c54-4f21-bbc9-da4f4eced458",
   "metadata": {},
   "source": [
    "## 9- Trouver le montant total des transactions pour le store_id 12.\n",
    "\n"
   ]
  },
  {
   "cell_type": "code",
   "execution_count": 25,
   "id": "55797e27",
   "metadata": {},
   "outputs": [
    {
     "name": "stdout",
     "output_type": "stream",
     "text": [
      "   total_amount\n",
      "0      26796.29\n"
     ]
    }
   ],
   "source": [
    "query = \"\"\"\n",
    "SELECT SUM(amount) AS total_amount\n",
    "FROM transactions\n",
    "WHERE store_id = 12;\n",
    "\"\"\"\n",
    "result = pd.read_sql_query(query, conn)\n",
    "print(result)"
   ]
  },
  {
   "cell_type": "markdown",
   "id": "853e1af0-d677-44a3-87c6-27e5c7463ec6",
   "metadata": {},
   "source": [
    "## 10- Lister tous les clients de sexe féminin.\n",
    "\n"
   ]
  },
  {
   "cell_type": "code",
   "execution_count": 26,
   "id": "60daaab8",
   "metadata": {},
   "outputs": [
    {
     "name": "stdout",
     "output_type": "stream",
     "text": [
      "     customer_id customer_name  age  gender\n",
      "0              2    Customer 2   40  Female\n",
      "1              7    Customer 7   55  Female\n",
      "2              9    Customer 9   51  Female\n",
      "3             10   Customer 10   22  Female\n",
      "4             11   Customer 11   69  Female\n",
      "..           ...           ...  ...     ...\n",
      "226          490  Customer 490   53  Female\n",
      "227          494  Customer 494   35  Female\n",
      "228          496  Customer 496   59  Female\n",
      "229          497  Customer 497   50  Female\n",
      "230          500  Customer 500   69  Female\n",
      "\n",
      "[231 rows x 4 columns]\n"
     ]
    }
   ],
   "source": [
    "query = \"\"\"\n",
    "SELECT *\n",
    "FROM customers\n",
    "WHERE gender = \"Female\";\n",
    "\"\"\"\n",
    "result = pd.read_sql_query(query, conn)\n",
    "print(result)"
   ]
  },
  {
   "cell_type": "markdown",
   "id": "9074200a-9661-4e71-aaed-e70d222e5147",
   "metadata": {},
   "source": [
    "# Fonctions d’Agrégation et GROUP BY\n",
    "\n",
    "\n"
   ]
  },
  {
   "cell_type": "markdown",
   "id": "ab1fd92a-f767-44c2-9127-fdea659af077",
   "metadata": {},
   "source": [
    "## 11- Calculer la moyenne des montants des transactions par magasin.\n",
    "\n"
   ]
  },
  {
   "cell_type": "code",
   "execution_count": 27,
   "id": "1e927dfb",
   "metadata": {},
   "outputs": [
    {
     "name": "stdout",
     "output_type": "stream",
     "text": [
      "    store_id  average_amount\n",
      "0          1      532.130000\n",
      "1          2      496.529592\n",
      "2          3      481.485789\n",
      "3          4      563.986364\n",
      "4          5      614.618200\n",
      "5          6      465.471190\n",
      "6          7      503.759412\n",
      "7          8      461.190196\n",
      "8          9      465.133200\n",
      "9         10      504.817115\n",
      "10        11      453.278361\n",
      "11        12      546.863061\n",
      "12        13      569.012857\n",
      "13        14      479.562745\n",
      "14        15      478.972679\n",
      "15        16      493.564167\n",
      "16        17      546.908519\n",
      "17        18      602.175526\n",
      "18        19      570.356531\n",
      "19        20      496.091786\n"
     ]
    }
   ],
   "source": [
    "query = \"\"\"\n",
    "SELECT store_id, AVG(amount) AS average_amount\n",
    "FROM transactions\n",
    "GROUP BY store_id\n",
    ";\n",
    "\"\"\"\n",
    "result = pd.read_sql_query(query, conn)\n",
    "print(result)"
   ]
  },
  {
   "cell_type": "markdown",
   "id": "e43e01e7-d214-4651-a719-ed9d6f58fd2f",
   "metadata": {},
   "source": [
    "## 12- Trouver le magasin qui a réalisé le chiffre d'affaires le plus élevé.\n",
    "\n"
   ]
  },
  {
   "cell_type": "code",
   "execution_count": 28,
   "id": "bf979d22",
   "metadata": {},
   "outputs": [
    {
     "name": "stdout",
     "output_type": "stream",
     "text": [
      "   store_id  big_amount\n",
      "0        12    513915.4\n"
     ]
    }
   ],
   "source": [
    "query = \"\"\"\n",
    "SELECT store_id, SUM(amount) AS big_amount \n",
    "FROM transactions\n",
    "ORDER BY store_id LIMIT 1\n",
    ";\n",
    "\"\"\"\n",
    "result = pd.read_sql_query(query, conn)\n",
    "print(result)"
   ]
  },
  {
   "cell_type": "markdown",
   "id": "8b10e3a1-fc34-4c2c-803a-3c56b7860ccc",
   "metadata": {},
   "source": [
    "## 13- Calculer le montant total dépensé par chaque client.\n",
    "\n"
   ]
  },
  {
   "cell_type": "code",
   "execution_count": 29,
   "id": "a5e3d536",
   "metadata": {},
   "outputs": [
    {
     "name": "stdout",
     "output_type": "stream",
     "text": [
      "     transaction_id  customer_id  product_id  store_id        date  amount\n",
      "0                 1           35           8        12  2023-01-01  379.09\n",
      "1                 2          236          34        16  2023-01-02   18.48\n",
      "2                 3          334          50        20  2023-01-03  783.51\n",
      "3                 4          325          46        20  2023-01-04  333.82\n",
      "4                 5          332          89         6  2023-01-05  329.74\n",
      "..              ...          ...         ...       ...         ...     ...\n",
      "995             996          271          62         8  2025-09-22  268.09\n",
      "996             997          380           9         4  2025-09-23  829.86\n",
      "997             998           46          22        14  2025-09-24  603.12\n",
      "998             999            2          85         8  2025-09-25  882.43\n",
      "999            1000          253           4         8  2025-09-26  365.28\n",
      "\n",
      "[1000 rows x 6 columns]\n"
     ]
    }
   ],
   "source": [
    "query = \"\"\"\n",
    "SELECT *\n",
    "FROM transactions\n",
    ";\n",
    "\"\"\"\n",
    "result = pd.read_sql_query(query, conn)\n",
    "print(result)"
   ]
  },
  {
   "cell_type": "code",
   "execution_count": 30,
   "id": "e3508079",
   "metadata": {},
   "outputs": [
    {
     "name": "stdout",
     "output_type": "stream",
     "text": [
      "     customer_id  amount_per_customer\n",
      "0              1              2528.13\n",
      "1              2              2108.46\n",
      "2              3               427.58\n",
      "3              4              1447.50\n",
      "4              5               574.77\n",
      "..           ...                  ...\n",
      "434          496              2437.91\n",
      "435          497              1821.58\n",
      "436          498              1672.92\n",
      "437          499               486.39\n",
      "438          500               384.58\n",
      "\n",
      "[439 rows x 2 columns]\n"
     ]
    }
   ],
   "source": [
    "query = \"\"\"\n",
    "SELECT customer_id, SUM(amount) AS amount_per_customer\n",
    "FROM transactions\n",
    "GROUP BY customer_id\n",
    ";\n",
    "\"\"\"\n",
    "result = pd.read_sql_query(query, conn)\n",
    "print(result)"
   ]
  },
  {
   "cell_type": "markdown",
   "id": "6cb8c9e9-f2d5-4e1d-bd5f-bc7540e165ab",
   "metadata": {},
   "source": [
    "## 14- Trouver le produit le plus vendu en termes de quantité.\n",
    "\n"
   ]
  },
  {
   "cell_type": "code",
   "execution_count": 31,
   "id": "085523f6",
   "metadata": {},
   "outputs": [
    {
     "name": "stdout",
     "output_type": "stream",
     "text": [
      "   product_id  total_sales_by_product\n",
      "0          45                      20\n"
     ]
    }
   ],
   "source": [
    "query = \"\"\"\n",
    "SELECT product_id, COUNT(*) AS total_sales_by_product\n",
    "FROM transactions\n",
    "GROUP BY product_id\n",
    "ORDER BY total_sales_by_product DESC LIMIT 1;\n",
    "\n",
    "\"\"\"\n",
    "result = pd.read_sql_query(query, conn)\n",
    "print(result)"
   ]
  },
  {
   "cell_type": "markdown",
   "id": "22b0e54d-3478-4db1-aba1-595013f8005e",
   "metadata": {},
   "source": [
    "## 15- Lister les catégories de produits et le montant total des ventes par catégorie.\n",
    "\n"
   ]
  },
  {
   "cell_type": "code",
   "execution_count": 32,
   "id": "2491cd17",
   "metadata": {},
   "outputs": [
    {
     "name": "stdout",
     "output_type": "stream",
     "text": [
      "      category  total_sales\n",
      "0        Books    151828.24\n",
      "1    Furniture    127514.47\n",
      "2  Electronics    125958.34\n",
      "3     Clothing    108614.35\n"
     ]
    }
   ],
   "source": [
    "query = \"\"\"\n",
    "SELECT p.category, SUM(t.amount) AS total_sales\n",
    "FROM transactions t\n",
    "JOIN products p ON t.product_id = p.product_id\n",
    "GROUP BY p.category\n",
    "ORDER BY total_sales DESC;\n",
    "\n",
    "\"\"\"\n",
    "result = pd.read_sql_query(query, conn)\n",
    "print(result)"
   ]
  },
  {
   "cell_type": "markdown",
   "id": "5d403ae9-3f0a-4f33-8d5f-9a6596dd3eaf",
   "metadata": {},
   "source": [
    "# Clauses HAVING vs WHERE\n",
    "\n",
    "\n"
   ]
  },
  {
   "cell_type": "markdown",
   "id": "155ff89d-8250-4842-8deb-f641744c32ae",
   "metadata": {},
   "source": [
    "## 16- Lister les clients qui ont effectué plus de 5 transactions.\n",
    "\n"
   ]
  },
  {
   "cell_type": "code",
   "execution_count": 33,
   "id": "2cbf443d",
   "metadata": {},
   "outputs": [
    {
     "name": "stdout",
     "output_type": "stream",
     "text": [
      "   customer_id  transaction_count\n",
      "0           61                  6\n",
      "1          141                  6\n",
      "2          277                  6\n"
     ]
    }
   ],
   "source": [
    "query = \"\"\"\n",
    "SELECT customer_id, COUNT(*) AS transaction_count\n",
    "FROM transactions\n",
    "GROUP BY customer_id\n",
    "HAVING COUNT(*) > 5;\n",
    "\n",
    "\"\"\"\n",
    "result = pd.read_sql_query(query, conn)\n",
    "print(result)"
   ]
  },
  {
   "cell_type": "markdown",
   "id": "311db948-699b-4d67-8cd3-3ca06e86a3fd",
   "metadata": {},
   "source": [
    "## 17- Trouver les produits qui ont généré plus de 1000 en ventes totales.\n",
    "\n"
   ]
  },
  {
   "cell_type": "code",
   "execution_count": 34,
   "id": "fa348e91",
   "metadata": {},
   "outputs": [
    {
     "name": "stdout",
     "output_type": "stream",
     "text": [
      "    product_id  total_sales\n",
      "0            1      4334.66\n",
      "1            2      5735.32\n",
      "2            3      5909.48\n",
      "3            4      3590.36\n",
      "4            5      4182.23\n",
      "..         ...          ...\n",
      "95          96      6980.49\n",
      "96          97      6947.89\n",
      "97          98      4940.70\n",
      "98          99      5780.27\n",
      "99         100      2560.02\n",
      "\n",
      "[100 rows x 2 columns]\n"
     ]
    }
   ],
   "source": [
    "query = \"\"\"\n",
    "SELECT p.product_id, SUM(t.amount) AS total_sales\n",
    "FROM transactions t\n",
    "JOIN products p ON t.product_id = p.product_id\n",
    "GROUP BY p.product_id\n",
    "HAVING total_sales > 1000;\n",
    "\n",
    "\n",
    "\"\"\"\n",
    "result = pd.read_sql_query(query, conn)\n",
    "print(result)"
   ]
  },
  {
   "cell_type": "markdown",
   "id": "a1220e87-fc73-422f-85f9-ebcb9b0bad3a",
   "metadata": {},
   "source": [
    "## 18- Lister les magasins ayant une moyenne de transaction supérieure à 200.\n",
    "\n"
   ]
  },
  {
   "cell_type": "code",
   "execution_count": 35,
   "id": "5ebed89b",
   "metadata": {},
   "outputs": [
    {
     "name": "stdout",
     "output_type": "stream",
     "text": [
      "    product_id  total_sales\n",
      "0            1      4334.66\n",
      "1            2      5735.32\n",
      "2            3      5909.48\n",
      "3            4      3590.36\n",
      "4            5      4182.23\n",
      "..         ...          ...\n",
      "95          96      6980.49\n",
      "96          97      6947.89\n",
      "97          98      4940.70\n",
      "98          99      5780.27\n",
      "99         100      2560.02\n",
      "\n",
      "[100 rows x 2 columns]\n"
     ]
    }
   ],
   "source": [
    "query = \"\"\"\n",
    "SELECT p.product_id, SUM(t.amount) AS total_sales\n",
    "FROM transactions t\n",
    "JOIN products p ON t.product_id = p.product_id\n",
    "GROUP BY p.product_id\n",
    "HAVING SUM(t.amount) > 1000;\n",
    "\n",
    "\n",
    "\"\"\"\n",
    "result = pd.read_sql_query(query, conn)\n",
    "print(result)"
   ]
  },
  {
   "cell_type": "markdown",
   "id": "b7660a11-09cd-4e07-bc67-0e6f8e9f0911",
   "metadata": {},
   "source": [
    "## 19- Récupérer les produits appartenant à la catégorie Books et ayant généré plus de 500 EN AMOUNT en ventes."
   ]
  },
  {
   "cell_type": "code",
   "execution_count": 36,
   "id": "77acef91",
   "metadata": {},
   "outputs": [
    {
     "name": "stdout",
     "output_type": "stream",
     "text": [
      "   category  product_id  total_sales\n",
      "0     Books           1      4334.66\n",
      "1     Books           2      5735.32\n",
      "2     Books           3      5909.48\n",
      "3     Books           6      3147.49\n",
      "4     Books           8      4192.44\n",
      "5     Books           9      7749.04\n",
      "6     Books          14      7558.51\n",
      "7     Books          20      5097.30\n",
      "8     Books          31      3538.25\n",
      "9     Books          33      6547.09\n",
      "10    Books          39      7603.02\n",
      "11    Books          42      7611.42\n",
      "12    Books          47      2999.79\n",
      "13    Books          50      4482.85\n",
      "14    Books          52      5492.80\n",
      "15    Books          54      7047.71\n",
      "16    Books          55      4650.90\n",
      "17    Books          56      1982.06\n",
      "18    Books          61      7822.99\n",
      "19    Books          62      6269.32\n",
      "20    Books          65      3846.50\n",
      "21    Books          69      4718.06\n",
      "22    Books          72      5466.35\n",
      "23    Books          73      3885.76\n",
      "24    Books          79      8666.74\n",
      "25    Books          86      4495.20\n",
      "26    Books          94      6036.49\n",
      "27    Books          98      4940.70\n"
     ]
    }
   ],
   "source": [
    "query = \"\"\"\n",
    "SELECT p.category, p.product_id, SUM(t.amount) AS total_sales\n",
    "FROM transactions t\n",
    "JOIN products p ON t.product_id = p.product_id\n",
    "WHERE p.category = \"Books\"\n",
    "GROUP BY p.product_id\n",
    "HAVING total_sales > 500;\n",
    "\n",
    "\"\"\"\n",
    "result = pd.read_sql_query(query, conn)\n",
    "print(result)"
   ]
  },
  {
   "cell_type": "markdown",
   "id": "30f5599b-ec7f-4166-8cfc-ece616864373",
   "metadata": {},
   "source": [
    "## 20- Trouver les clients ayant dépensé plus de 1000 au total.\n",
    "\n"
   ]
  },
  {
   "cell_type": "code",
   "execution_count": 37,
   "id": "9a368210",
   "metadata": {},
   "outputs": [
    {
     "name": "stdout",
     "output_type": "stream",
     "text": [
      "     customer_id  total_sales\n",
      "0              1      2528.13\n",
      "1              2      2108.46\n",
      "2              4      1447.50\n",
      "3              6      1934.12\n",
      "4              7      1303.84\n",
      "..           ...          ...\n",
      "217          494      2268.27\n",
      "218          495      1814.12\n",
      "219          496      2437.91\n",
      "220          497      1821.58\n",
      "221          498      1672.92\n",
      "\n",
      "[222 rows x 2 columns]\n"
     ]
    }
   ],
   "source": [
    "query = \"\"\"\n",
    "SELECT c.customer_id, SUM(t.amount) AS total_sales\n",
    "FROM transactions t\n",
    "JOIN customers c ON t.customer_id = c.customer_id\n",
    "GROUP BY t.customer_id\n",
    "HAVING total_sales > 1000\n",
    ";\n",
    "\n",
    "\"\"\"\n",
    "result = pd.read_sql_query(query, conn)\n",
    "print(result)"
   ]
  },
  {
   "cell_type": "markdown",
   "id": "7d11456c-6273-4c49-be6b-6c249768f80c",
   "metadata": {},
   "source": [
    "# Fonctions de Manipulation de Chaînes et Dates\n",
    "\n",
    "\n"
   ]
  },
  {
   "cell_type": "markdown",
   "id": "79f51d4d-c6fe-418b-98e9-1d83af0a24e6",
   "metadata": {},
   "source": [
    "## 21- Extraire l’année des dates de transactions et compter le nombre de transactions par année."
   ]
  },
  {
   "cell_type": "code",
   "execution_count": 38,
   "id": "399fc541",
   "metadata": {},
   "outputs": [
    {
     "name": "stdout",
     "output_type": "stream",
     "text": [
      "   year  COUNT(transaction_id)\n",
      "0  2023                    365\n",
      "1  2024                    366\n",
      "2  2025                    269\n"
     ]
    }
   ],
   "source": [
    "query = \"\"\"\n",
    "SELECT DISTINCT  strftime('%Y', date) AS year, COUNT(transaction_id)\n",
    "FROM transactions\n",
    "GROUP BY year\n",
    "ORDER BY year\n",
    "\n",
    ";\n",
    "\n",
    "\"\"\"\n",
    "result = pd.read_sql_query(query, conn)\n",
    "print(result)"
   ]
  },
  {
   "cell_type": "markdown",
   "id": "f0fed782-2bdc-48ff-9326-d4ee672be51c",
   "metadata": {},
   "source": [
    "## 22- Concaténer le nom du client avec son âge.\n",
    "\n"
   ]
  },
  {
   "cell_type": "code",
   "execution_count": 39,
   "id": "49b07353",
   "metadata": {},
   "outputs": [
    {
     "name": "stdout",
     "output_type": "stream",
     "text": [
      "    customer_name || ' (Age: ' || age || ')'\n",
      "0                       Customer 1 (Age: 25)\n",
      "1                       Customer 2 (Age: 40)\n",
      "2                       Customer 3 (Age: 30)\n",
      "3                       Customer 4 (Age: 33)\n",
      "4                       Customer 5 (Age: 43)\n",
      "..                                       ...\n",
      "495                   Customer 496 (Age: 59)\n",
      "496                   Customer 497 (Age: 50)\n",
      "497                   Customer 498 (Age: 51)\n",
      "498                   Customer 499 (Age: 35)\n",
      "499                   Customer 500 (Age: 69)\n",
      "\n",
      "[500 rows x 1 columns]\n"
     ]
    }
   ],
   "source": [
    "query = \"\"\"\n",
    "SELECT customer_name || ' (Age: ' || age || ')' \n",
    "FROM customers;\n",
    "\n",
    "\"\"\"\n",
    "result = pd.read_sql_query(query, conn)\n",
    "print(result)"
   ]
  },
  {
   "cell_type": "markdown",
   "id": "5a33a738-f38d-4132-8141-ff1c7bb12ab9",
   "metadata": {},
   "source": [
    "## 23- Remplacer tous les espaces par des underscores dans les noms des produits.\n",
    "\n"
   ]
  },
  {
   "cell_type": "code",
   "execution_count": 40,
   "id": "bd9e23c8",
   "metadata": {},
   "outputs": [
    {
     "name": "stdout",
     "output_type": "stream",
     "text": [
      "    customer_name || ' (Age: ' || age || ')'\n",
      "0                       Customer 1 (Age: 25)\n",
      "1                       Customer 2 (Age: 40)\n",
      "2                       Customer 3 (Age: 30)\n",
      "3                       Customer 4 (Age: 33)\n",
      "4                       Customer 5 (Age: 43)\n",
      "..                                       ...\n",
      "495                   Customer 496 (Age: 59)\n",
      "496                   Customer 497 (Age: 50)\n",
      "497                   Customer 498 (Age: 51)\n",
      "498                   Customer 499 (Age: 35)\n",
      "499                   Customer 500 (Age: 69)\n",
      "\n",
      "[500 rows x 1 columns]\n"
     ]
    }
   ],
   "source": [
    "query = \"\"\"\n",
    "SELECT customer_name || ' (Age: ' || age || ')' \n",
    "FROM customers;\n",
    "\n",
    "\"\"\"\n",
    "result = pd.read_sql_query(query, conn)\n",
    "print(result)"
   ]
  },
  {
   "cell_type": "markdown",
   "id": "f7d6fc64-2a14-4abc-b4cc-b9c22db18163",
   "metadata": {},
   "source": [
    "## 24- Transformer en majuscules les noms des magasins.\n",
    "\n"
   ]
  },
  {
   "cell_type": "code",
   "execution_count": 41,
   "id": "caf18445",
   "metadata": {},
   "outputs": [
    {
     "name": "stdout",
     "output_type": "stream",
     "text": [
      "   store_name\n",
      "0     STORE 1\n",
      "1     STORE 2\n",
      "2     STORE 3\n",
      "3     STORE 4\n",
      "4     STORE 5\n",
      "5     STORE 6\n",
      "6     STORE 7\n",
      "7     STORE 8\n",
      "8     STORE 9\n",
      "9    STORE 10\n",
      "10   STORE 11\n",
      "11   STORE 12\n",
      "12   STORE 13\n",
      "13   STORE 14\n",
      "14   STORE 15\n",
      "15   STORE 16\n",
      "16   STORE 17\n",
      "17   STORE 18\n",
      "18   STORE 19\n",
      "19   STORE 20\n"
     ]
    }
   ],
   "source": [
    "query = \"\"\"\n",
    "SELECT UPPER(store_name) AS store_name\n",
    "FROM stores;\n",
    "\n",
    "\"\"\"\n",
    "result = pd.read_sql_query(query, conn)\n",
    "print(result)"
   ]
  },
  {
   "cell_type": "markdown",
   "id": "313ac0b4-32c5-444f-bd5a-5acf51436bb7",
   "metadata": {},
   "source": [
    "# Joins\n"
   ]
  },
  {
   "cell_type": "markdown",
   "id": "dc437b48-9ed2-4d15-adac-95d163ac7589",
   "metadata": {},
   "source": [
    "## 25- Joindre la table transactions avec stores et afficher le nom du magasin pour chaque transaction."
   ]
  },
  {
   "cell_type": "code",
   "execution_count": 42,
   "id": "e3701005",
   "metadata": {},
   "outputs": [
    {
     "name": "stdout",
     "output_type": "stream",
     "text": [
      "    store_id store_name     location\n",
      "0          1    Store 1     New York\n",
      "1          2    Store 2  Los Angeles\n",
      "2          3    Store 3     New York\n",
      "3          4    Store 4     New York\n",
      "4          5    Store 5      Phoenix\n",
      "5          6    Store 6  Los Angeles\n",
      "6          7    Store 7  Los Angeles\n",
      "7          8    Store 8      Houston\n",
      "8          9    Store 9     New York\n",
      "9         10   Store 10     New York\n",
      "10        11   Store 11  Los Angeles\n",
      "11        12   Store 12  Los Angeles\n",
      "12        13   Store 13  Los Angeles\n",
      "13        14   Store 14     New York\n",
      "14        15   Store 15      Houston\n",
      "15        16   Store 16     New York\n",
      "16        17   Store 17      Phoenix\n",
      "17        18   Store 18      Chicago\n",
      "18        19   Store 19      Phoenix\n",
      "19        20   Store 20     New York\n"
     ]
    }
   ],
   "source": [
    "query = \"\"\"\n",
    "SELECT *\n",
    "FROM stores\n",
    "\n",
    ";\n",
    "\n",
    "\"\"\"\n",
    "result = pd.read_sql_query(query, conn)\n",
    "print(result)"
   ]
  },
  {
   "cell_type": "code",
   "execution_count": 43,
   "id": "04b1d4d4",
   "metadata": {},
   "outputs": [
    {
     "name": "stdout",
     "output_type": "stream",
     "text": [
      "   store_name  transaction_id\n",
      "0     Store 1               7\n",
      "1    Store 10              58\n",
      "2    Store 11              20\n",
      "3    Store 12               1\n",
      "4    Store 13              10\n",
      "5    Store 14              24\n",
      "6    Store 15               8\n",
      "7    Store 16               2\n",
      "8    Store 17              16\n",
      "9    Store 18              83\n",
      "10   Store 19              19\n",
      "11    Store 2              28\n",
      "12   Store 20               3\n",
      "13    Store 3              23\n",
      "14    Store 4               6\n",
      "15    Store 5              35\n",
      "16    Store 6               5\n",
      "17    Store 7              45\n",
      "18    Store 8              13\n",
      "19    Store 9              30\n"
     ]
    }
   ],
   "source": [
    "query = \"\"\"\n",
    "SELECT s.store_name AS store_name, t.transaction_id\n",
    "FROM transactions t\n",
    "JOIN stores s ON s.store_id = t.store_id\n",
    "GROUP BY store_name\n",
    ";\n",
    "\n",
    "\"\"\"\n",
    "result = pd.read_sql_query(query, conn)\n",
    "print(result)"
   ]
  },
  {
   "cell_type": "markdown",
   "id": "c700faf6-25d2-48cb-950a-ad8e7f4696a9",
   "metadata": {},
   "source": [
    "## 26- Joindre les tables transactions et products pour obtenir le nom du produit acheté dans chaque transaction."
   ]
  },
  {
   "cell_type": "code",
   "execution_count": 44,
   "id": "ad497d3a",
   "metadata": {},
   "outputs": [
    {
     "name": "stdout",
     "output_type": "stream",
     "text": [
      "   product_name  transaction_id\n",
      "0     Product 1              20\n",
      "1    Product 10              10\n",
      "2   Product 100              24\n",
      "3    Product 11             140\n",
      "4    Product 12              68\n",
      "..          ...             ...\n",
      "95   Product 95               8\n",
      "96   Product 96             212\n",
      "97   Product 97              16\n",
      "98   Product 98             162\n",
      "99   Product 99              52\n",
      "\n",
      "[100 rows x 2 columns]\n"
     ]
    }
   ],
   "source": [
    "query = \"\"\"\n",
    "SELECT p.product_name AS product_name, t.transaction_id\n",
    "FROM transactions t\n",
    "JOIN products p ON p.product_id = t.product_id\n",
    "GROUP BY product_name\n",
    ";\n",
    "\n",
    "\"\"\"\n",
    "result = pd.read_sql_query(query, conn)\n",
    "print(result)"
   ]
  },
  {
   "cell_type": "markdown",
   "id": "2e781370-0bdb-4f6d-8f43-24e8892bf3c2",
   "metadata": {},
   "source": [
    "## 27- Faire une jointure entre transactions, products, et stores pour afficher le produit acheté, le magasin et le montant."
   ]
  },
  {
   "cell_type": "code",
   "execution_count": 45,
   "id": "0dc5a1fc",
   "metadata": {},
   "outputs": [
    {
     "name": "stdout",
     "output_type": "stream",
     "text": [
      "   product_name  store_id  transaction_id\n",
      "0     Product 1        11              20\n",
      "1    Product 10        13              10\n",
      "2   Product 100        14              24\n",
      "3    Product 11         2             140\n",
      "4    Product 12         5              68\n",
      "..          ...       ...             ...\n",
      "95   Product 95        15               8\n",
      "96   Product 96        13             212\n",
      "97   Product 97        17              16\n",
      "98   Product 98         3             162\n",
      "99   Product 99        12              52\n",
      "\n",
      "[100 rows x 3 columns]\n"
     ]
    }
   ],
   "source": [
    "query = \"\"\"\n",
    "SELECT p.product_name AS product_name, s.store_id, t.transaction_id\n",
    "FROM transactions t\n",
    "JOIN products p ON p.product_id = t.product_id\n",
    "JOIN stores s ON s.store_id = t.store_id\n",
    "GROUP BY product_name\n",
    ";\n",
    "\n",
    "\"\"\"\n",
    "result = pd.read_sql_query(query, conn)\n",
    "print(result)"
   ]
  },
  {
   "cell_type": "markdown",
   "id": "45b1838d-39ab-4337-bf7c-6bc54d16413c",
   "metadata": {},
   "source": [
    "## 28- Lister les transactions pour les clients de plus de 30 ans.\n",
    "\n"
   ]
  },
  {
   "cell_type": "code",
   "execution_count": 46,
   "id": "8765a053",
   "metadata": {},
   "outputs": [
    {
     "name": "stdout",
     "output_type": "stream",
     "text": [
      "     customer_id customer_name  age  gender\n",
      "0              1    Customer 1   25    Male\n",
      "1              2    Customer 2   40  Female\n",
      "2              3    Customer 3   30    Male\n",
      "3              4    Customer 4   33    Male\n",
      "4              5    Customer 5   43    Male\n",
      "..           ...           ...  ...     ...\n",
      "495          496  Customer 496   59  Female\n",
      "496          497  Customer 497   50  Female\n",
      "497          498  Customer 498   51    Male\n",
      "498          499  Customer 499   35    Male\n",
      "499          500  Customer 500   69  Female\n",
      "\n",
      "[500 rows x 4 columns]\n"
     ]
    }
   ],
   "source": [
    "query = \"\"\"\n",
    "SELECT * FROM customers\n",
    "\n",
    "\"\"\"\n",
    "result = pd.read_sql_query(query, conn)\n",
    "print(result)"
   ]
  },
  {
   "cell_type": "code",
   "execution_count": 47,
   "id": "9a3abe59",
   "metadata": {},
   "outputs": [
    {
     "name": "stdout",
     "output_type": "stream",
     "text": [
      "     transaction_id customer_name  les_vieux_de_plus_de_30_ans\n",
      "0               303  Customer 101                           33\n",
      "1               101  Customer 102                           67\n",
      "2               326  Customer 105                           39\n",
      "3               583  Customer 106                           36\n",
      "4               157  Customer 107                           68\n",
      "..              ...           ...                          ...\n",
      "329             495   Customer 92                           41\n",
      "330             139   Customer 95                           57\n",
      "331             206   Customer 96                           44\n",
      "332             376   Customer 98                           58\n",
      "333              57   Customer 99                           61\n",
      "\n",
      "[334 rows x 3 columns]\n"
     ]
    }
   ],
   "source": [
    "query = \"\"\"\n",
    "SELECT t.transaction_id, c.customer_name AS customer_name, c.age AS les_vieux_de_plus_de_30_ans\n",
    "FROM transactions t\n",
    "JOIN customers c ON c.customer_id = t.customer_id\n",
    "WHERE c.age > 30\n",
    "GROUP BY customer_name\n",
    ";\n",
    "\n",
    "\"\"\"\n",
    "result = pd.read_sql_query(query, conn)\n",
    "print(result)"
   ]
  },
  {
   "cell_type": "markdown",
   "id": "3c8ad773-f4c6-4b67-8b98-2d37a987a951",
   "metadata": {},
   "source": [
    "## 29- Lister tous les produits achetés par les clients de sexe masculin.\n",
    "\n"
   ]
  },
  {
   "cell_type": "code",
   "execution_count": 48,
   "id": "0b008bc8",
   "metadata": {},
   "outputs": [
    {
     "name": "stdout",
     "output_type": "stream",
     "text": [
      "     transaction_id male_alpha\n",
      "0                 2       Male\n",
      "1                 3       Male\n",
      "2                 4       Male\n",
      "3                 7       Male\n",
      "4                11       Male\n",
      "..              ...        ...\n",
      "545             988       Male\n",
      "546             989       Male\n",
      "547             991       Male\n",
      "548             993       Male\n",
      "549             995       Male\n",
      "\n",
      "[550 rows x 2 columns]\n"
     ]
    }
   ],
   "source": [
    "query = \"\"\"\n",
    "SELECT t.transaction_id, c.gender AS male_alpha\n",
    "FROM transactions t\n",
    "JOIN customers c ON c.customer_id = t.customer_id\n",
    "WHERE c.gender = 'Male'\n",
    "GROUP BY t.transaction_id\n",
    ";\n",
    "\n",
    "\"\"\"\n",
    "result = pd.read_sql_query(query, conn)\n",
    "print(result)"
   ]
  },
  {
   "cell_type": "markdown",
   "id": "3660487f-ad61-4d9a-8317-23c8b750db8f",
   "metadata": {},
   "source": [
    "# Sous-requêtes (Subqueries) et CTE\n",
    "\n",
    "\n"
   ]
  },
  {
   "cell_type": "markdown",
   "id": "28cb9f41-66cb-4e1a-a6a8-d951e0a8704b",
   "metadata": {},
   "source": [
    "## 30- Trouver les clients qui ont effectué une transaction pour un montant supérieur à la moyenne des transactions."
   ]
  },
  {
   "cell_type": "code",
   "execution_count": 49,
   "id": "aa308ba6",
   "metadata": {},
   "outputs": [
    {
     "name": "stdout",
     "output_type": "stream",
     "text": [
      "     customer_id customer_name  amount\n",
      "0            334  Customer 334  783.51\n",
      "1            379  Customer 379  811.79\n",
      "2             42   Customer 42  515.03\n",
      "3             28   Customer 28  826.28\n",
      "4            453  Customer 453  888.98\n",
      "..           ...           ...     ...\n",
      "497          351  Customer 351  934.32\n",
      "498          189  Customer 189  724.74\n",
      "499          380  Customer 380  829.86\n",
      "500           46   Customer 46  603.12\n",
      "501            2    Customer 2  882.43\n",
      "\n",
      "[502 rows x 3 columns]\n"
     ]
    }
   ],
   "source": [
    "query = \"\"\"\n",
    "SELECT \n",
    "    c.customer_id,\n",
    "    c.customer_name,\n",
    "    t.amount\n",
    "FROM \n",
    "    transactions t\n",
    "JOIN \n",
    "    customers c ON c.customer_id = t.customer_id\n",
    "WHERE \n",
    "    t.amount > (SELECT AVG(amount) FROM transactions);\n",
    " \n",
    "\n",
    "\"\"\"\n",
    "result = pd.read_sql_query(query, conn)\n",
    "print(result)"
   ]
  },
  {
   "cell_type": "markdown",
   "id": "bf8bbc3f-0026-40b2-8d55-e8146fcb06be",
   "metadata": {},
   "source": [
    "## 31- Lister les produits ayant un prix supérieur au prix moyen de leur catégorie.\n",
    "\n"
   ]
  },
  {
   "cell_type": "code",
   "execution_count": 54,
   "id": "1ecdb224",
   "metadata": {},
   "outputs": [
    {
     "name": "stdout",
     "output_type": "stream",
     "text": [
      "   product_name     category   price\n",
      "0     Product 2        Books  291.83\n",
      "1     Product 3        Books  295.06\n",
      "2     Product 5    Furniture  419.20\n",
      "3     Product 8        Books  388.96\n",
      "4     Product 9        Books  419.09\n",
      "5    Product 10  Electronics  332.69\n",
      "6    Product 11     Clothing  267.75\n",
      "7    Product 12     Clothing  450.63\n",
      "8    Product 14        Books  309.15\n",
      "9    Product 15  Electronics  480.60\n",
      "10   Product 17    Furniture  252.33\n",
      "11   Product 18  Electronics  273.78\n",
      "12   Product 19    Furniture  388.56\n",
      "13   Product 20        Books  400.85\n",
      "14   Product 21    Furniture  229.55\n",
      "15   Product 25     Clothing  498.78\n",
      "16   Product 27     Clothing  404.44\n",
      "17   Product 28  Electronics  488.36\n",
      "18   Product 29    Furniture  430.69\n",
      "19   Product 30  Electronics  369.34\n",
      "20   Product 31        Books  488.03\n",
      "21   Product 32    Furniture  343.67\n",
      "22   Product 34  Electronics  392.02\n",
      "23   Product 35  Electronics  451.66\n",
      "24   Product 40     Clothing  378.11\n",
      "25   Product 42        Books  361.28\n",
      "26   Product 43    Furniture  296.08\n",
      "27   Product 45    Furniture  332.89\n",
      "28   Product 47        Books  265.57\n",
      "29   Product 50        Books  291.19\n",
      "30   Product 53     Clothing  400.67\n",
      "31   Product 55        Books  325.64\n",
      "32   Product 57    Furniture  285.73\n",
      "33   Product 60     Clothing  402.04\n",
      "34   Product 61        Books  456.27\n",
      "35   Product 65        Books  280.82\n",
      "36   Product 66  Electronics  481.85\n",
      "37   Product 68    Furniture  338.24\n",
      "38   Product 71     Clothing  408.40\n",
      "39   Product 72        Books  476.81\n",
      "40   Product 74  Electronics  404.55\n",
      "41   Product 77     Clothing  264.90\n",
      "42   Product 78     Clothing  270.15\n",
      "43   Product 79        Books  496.40\n",
      "44   Product 82  Electronics  482.74\n",
      "45   Product 83  Electronics  350.40\n",
      "46   Product 93  Electronics  484.12\n",
      "47   Product 95     Clothing  267.34\n",
      "48   Product 98        Books  412.89\n",
      "49  Product 100     Clothing  352.12\n"
     ]
    }
   ],
   "source": [
    "query = \"\"\"\n",
    "SELECT \n",
    "    p.product_name,\n",
    "    p.category,\n",
    "    p.price\n",
    "FROM \n",
    "    products p\n",
    "WHERE \n",
    "    p.price > (\n",
    "    SELECT AVG(p2.price) FROM products p2\n",
    "    WHERE p2.category = p.category --Relie chaque produit à sa catégorie\n",
    "    )\n",
    " ;\n",
    "\n",
    "\"\"\"\n",
    "result = pd.read_sql_query(query, conn)\n",
    "print(result)"
   ]
  },
  {
   "cell_type": "markdown",
   "id": "52a6581a-6837-49d1-892a-da0af2995b64",
   "metadata": {},
   "source": [
    "## 32- Utiliser un CTE pour calculer le montant total des transactions par client, puis filtrer pour trouver ceux ayant dépensé plus de 500."
   ]
  },
  {
   "cell_type": "code",
   "execution_count": 56,
   "id": "a40f35d6",
   "metadata": {},
   "outputs": [
    {
     "name": "stdout",
     "output_type": "stream",
     "text": [
      "    customer_name  total_spent\n",
      "0      Customer 1      2528.13\n",
      "1     Customer 10      1854.36\n",
      "2    Customer 101      2295.63\n",
      "3    Customer 102       682.86\n",
      "4    Customer 104      1275.28\n",
      "..            ...          ...\n",
      "338   Customer 94       842.69\n",
      "339   Customer 95      2541.37\n",
      "340   Customer 96       565.53\n",
      "341   Customer 98      1101.91\n",
      "342   Customer 99      1943.84\n",
      "\n",
      "[343 rows x 2 columns]\n"
     ]
    }
   ],
   "source": [
    "query = \"\"\"\n",
    "WITH total_amount_per_client AS (\n",
    "SELECT c.customer_name,  SUM(t.amount) as total_spent\n",
    "FROM transactions t\n",
    "JOIN customers c ON t.customer_id = c.customer_id\n",
    "GROUP BY c.customer_name\n",
    "HAVING total_spent > 500\n",
    "\n",
    ")\n",
    "\n",
    "SELECT customer_name, total_spent\n",
    "FROM total_amount_per_client\n",
    " ;\n",
    "\n",
    "\"\"\"\n",
    "result = pd.read_sql_query(query, conn)\n",
    "print(result)"
   ]
  },
  {
   "cell_type": "markdown",
   "id": "27177518-ab48-4191-a8bb-f7161b604288",
   "metadata": {},
   "source": [
    "## 33- Lister les produits qui ont été achetés plus de 10 fois et appartenant à la catégorie Electronics."
   ]
  },
  {
   "cell_type": "markdown",
   "id": "db2b1ff4-188b-4d7f-b2f7-1ece1c570e5f",
   "metadata": {},
   "source": [
    "# Fonctions Fenêtre (Window Functions)\n",
    "\n",
    "\n"
   ]
  },
  {
   "cell_type": "markdown",
   "id": "020da88d-e7e9-4905-8b59-258ca0882aaf",
   "metadata": {},
   "source": [
    "## 34- Attribuer un rang aux transactions en fonction du montant dans chaque magasin.\n",
    "\n"
   ]
  },
  {
   "cell_type": "markdown",
   "id": "ead24719-b965-4aeb-8bde-2aa5736ecfcf",
   "metadata": {},
   "source": [
    "## 35- Calculer la somme cumulée du montant des transactions pour chaque client.\n",
    "\n"
   ]
  },
  {
   "cell_type": "markdown",
   "id": "565a5e26-6b11-4bd1-91bb-d45f0a3debd1",
   "metadata": {},
   "source": [
    "## 36- Attribuer un numéro de rang aux magasins basé sur le chiffre d'affaires total.\n",
    "\n"
   ]
  },
  {
   "cell_type": "markdown",
   "id": "dfe4a91c-c83e-4a35-a43b-d5fb9ffea73a",
   "metadata": {},
   "source": [
    "## 37- Calculer le pourcentage de contribution de chaque transaction au total des ventes du magasin."
   ]
  },
  {
   "cell_type": "code",
   "execution_count": null,
   "id": "1b7465c6-4091-4bc8-be9b-c35f55d33aee",
   "metadata": {},
   "outputs": [],
   "source": []
  }
 ],
 "metadata": {
  "kernelspec": {
   "display_name": "Python 3 (ipykernel)",
   "language": "python",
   "name": "python3"
  },
  "language_info": {
   "codemirror_mode": {
    "name": "ipython",
    "version": 3
   },
   "file_extension": ".py",
   "mimetype": "text/x-python",
   "name": "python",
   "nbconvert_exporter": "python",
   "pygments_lexer": "ipython3",
   "version": "3.12.3"
  }
 },
 "nbformat": 4,
 "nbformat_minor": 5
}
