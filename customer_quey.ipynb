{
 "cells": [
  {
   "cell_type": "code",
   "execution_count": 39,
   "metadata": {},
   "outputs": [],
   "source": [
    "import sqlite3\n",
    "import pandas as pd;\n",
    "import os\n",
    "#permet de récuperer une liste de fichiers \n",
    "import glob \n"
   ]
  },
  {
   "cell_type": "code",
   "execution_count": 40,
   "metadata": {},
   "outputs": [
    {
     "name": "stdout",
     "output_type": "stream",
     "text": [
      "['./csv\\\\customers.csv', './csv\\\\products.csv', './csv\\\\stores.csv', './csv\\\\transactions.csv']\n"
     ]
    }
   ],
   "source": [
    "\n",
    "#parcourir le dossier avec les csv / Remplace 'chemin_vers_vos_csv/*.csv'\n",
    "list_csvs = glob.glob('./csv/*.csv')\n",
    "print(list_csvs) \n"
   ]
  },
  {
   "cell_type": "code",
   "execution_count": 41,
   "metadata": {},
   "outputs": [],
   "source": [
    "#Bdd temporaire stockée en mémoire , connexion \n",
    "conn = sqlite3.connect(':memory:')\n",
    "cursor = conn.cursor()"
   ]
  },
  {
   "cell_type": "code",
   "execution_count": 42,
   "metadata": {},
   "outputs": [
    {
     "name": "stdout",
     "output_type": "stream",
     "text": [
      "   customer_id customer_name  age  gender\n",
      "0            1    Customer 1   25    Male\n",
      "1            2    Customer 2   40  Female\n",
      "2            3    Customer 3   30    Male\n",
      "3            4    Customer 4   33    Male\n",
      "4            5    Customer 5   43    Male\n",
      "customers.csv\n",
      "Table 'customers' créée avec succès dans SQLite.\n",
      "\n",
      "   product_id product_name     category   price\n",
      "0           1    Product 1        Books   14.02\n",
      "1           2    Product 2        Books  291.83\n",
      "2           3    Product 3        Books  295.06\n",
      "3           4    Product 4  Electronics  228.15\n",
      "4           5    Product 5    Furniture  419.20\n",
      "products.csv\n",
      "Table 'products' créée avec succès dans SQLite.\n",
      "\n",
      "   store_id store_name     location\n",
      "0         1    Store 1     New York\n",
      "1         2    Store 2  Los Angeles\n",
      "2         3    Store 3     New York\n",
      "3         4    Store 4     New York\n",
      "4         5    Store 5      Phoenix\n",
      "stores.csv\n",
      "Table 'stores' créée avec succès dans SQLite.\n",
      "\n",
      "   transaction_id  customer_id  product_id  store_id        date  amount\n",
      "0               1           35           8        12  2023-01-01  379.09\n",
      "1               2          236          34        16  2023-01-02   18.48\n",
      "2               3          334          50        20  2023-01-03  783.51\n",
      "3               4          325          46        20  2023-01-04  333.82\n",
      "4               5          332          89         6  2023-01-05  329.74\n",
      "transactions.csv\n",
      "Table 'transactions' créée avec succès dans SQLite.\n",
      "\n"
     ]
    }
   ],
   "source": [
    "#Lire chaque fichier CSV et l'insérer en tant que table dans SQLite\n",
    "\n",
    "for one_csv in list_csvs:\n",
    "     # Lire le CSV dans un DataFrame pandas\n",
    "    df = pd.read_csv(one_csv)\n",
    "   \n",
    "   # Utiliser os.path.basename pour obtenir le nom du fichier avec extension\n",
    "    file_name = os.path.basename(one_csv) # Récupère le nom de fichier avec extension\n",
    "\n",
    "    print(df.head())\n",
    "    print(file_name)\n",
    "\n",
    "    # Divise le nom du fichier en une liste de sous - chaines qui utilise le caractère '.'\n",
    "    # ensuite [0] séléctionne le premier élément de la liste \n",
    "    table_name = file_name.split('.')[0]\n",
    "\n",
    "\n",
    "    #inserer le DF dans la table sqlite temporare / la base de donnée en mémoire créer plus haut \n",
    "\n",
    "    df.to_sql(table_name, conn, index=False, if_exists='replace')\n",
    "    \n",
    "    print(f\"Table '{table_name}' créée avec succès dans SQLite.\\n\")"
   ]
  },
  {
   "cell_type": "code",
   "execution_count": 43,
   "metadata": {},
   "outputs": [
    {
     "name": "stdout",
     "output_type": "stream",
     "text": [
      "Tables créées dans la base de données SQLite :\n",
      "[('customers',), ('products',), ('stores',), ('transactions',)]\n"
     ]
    }
   ],
   "source": [
    "# 4. Vérifier les tables créées dans la base de données SQLite\n",
    "cursor.execute(\"SELECT name FROM sqlite_master WHERE type='table';\")\n",
    "tables = cursor.fetchall()\n",
    "print(\"Tables créées dans la base de données SQLite :\")\n",
    "print(tables)\n",
    "  "
   ]
  },
  {
   "cell_type": "code",
   "execution_count": 44,
   "metadata": {},
   "outputs": [
    {
     "name": "stdout",
     "output_type": "stream",
     "text": [
      "\n",
      "Résultats de la requête sur la table 'customers':\n",
      "   customer_id customer_name  age  gender\n",
      "0            1    Customer 1   25    Male\n",
      "1            2    Customer 2   40  Female\n",
      "2            3    Customer 3   30    Male\n",
      "3            4    Customer 4   33    Male\n",
      "4            5    Customer 5   43    Male\n"
     ]
    }
   ],
   "source": [
    "if tables:  # Vérifie s'il y a des tables créées\n",
    "    table_name = tables[0][0]  # Prendre le nom de la première table\n",
    "    request = f\"SELECT * FROM {table_name} LIMIT 5;\"  # Requête SQL\n",
    "    resultats = pd.read_sql_query(request, conn)\n",
    "\n",
    "    # 6. Afficher les résultats de la requête\n",
    "    print(f\"\\nRésultats de la requête sur la table '{table_name}':\")\n",
    "    print(resultats)\n",
    "else:\n",
    "    print(\"Aucune table n'a été créée dans la base de données SQLite.\")"
   ]
  },
  {
   "cell_type": "code",
   "execution_count": 45,
   "metadata": {},
   "outputs": [],
   "source": [
    "conn.close()"
   ]
  }
 ],
 "metadata": {
  "kernelspec": {
   "display_name": "Python 3",
   "language": "python",
   "name": "python3"
  },
  "language_info": {
   "codemirror_mode": {
    "name": "ipython",
    "version": 3
   },
   "file_extension": ".py",
   "mimetype": "text/x-python",
   "name": "python",
   "nbconvert_exporter": "python",
   "pygments_lexer": "ipython3",
   "version": "3.12.3"
  }
 },
 "nbformat": 4,
 "nbformat_minor": 2
}
